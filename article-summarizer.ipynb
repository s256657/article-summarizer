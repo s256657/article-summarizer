{
 "cells": [
  {
   "cell_type": "markdown",
   "metadata": {},
   "source": [
    "# Web Mining and Applied NLP (44-620)\n",
    "\n",
    "## Final Project: Article Summarizer\n",
    "\n",
    "### Student Name: Craig Wilcox\n",
    "\n",
    "### Repository Link: https://github.com/s256657/article-summarizer\n",
    "\n",
    "Perform the tasks described in the Markdown cells below.  When you have completed the assignment make sure your code cells have all been run (and have output beneath them) and ensure you have committed and pushed ALL of your changes to your assignment repository.\n",
    "\n",
    "You should bring in code from previous assignments to help you answer the questions below.\n",
    "\n",
    "Every question that requires you to write code will have a code cell underneath it; you may either write your entire solution in that cell or write it in a python file (`.py`), then import and run the appropriate code to answer the question."
   ]
  },
  {
   "cell_type": "markdown",
   "metadata": {},
   "source": [
    "### Pre-work Import Requirements"
   ]
  },
  {
   "cell_type": "code",
   "execution_count": 17,
   "metadata": {},
   "outputs": [
    {
     "name": "stderr",
     "output_type": "stream",
     "text": [
      "Python(44195) MallocStackLogging: can't turn off malloc stack logging because it was not enabled.\n"
     ]
    },
    {
     "name": "stdout",
     "output_type": "stream",
     "text": [
      "Package                 Version\n",
      "----------------------- -----------\n",
      "annotated-types         0.7.0\n",
      "appnope                 0.1.4\n",
      "asttokens               3.0.0\n",
      "beautifulsoup4          4.13.4\n",
      "blis                    1.3.0\n",
      "catalogue               2.0.10\n",
      "certifi                 2025.8.3\n",
      "charset-normalizer      3.4.2\n",
      "click                   8.2.1\n",
      "cloudpathlib            0.21.1\n",
      "comm                    0.2.3\n",
      "confection              0.1.5\n",
      "contourpy               1.3.3\n",
      "cycler                  0.12.1\n",
      "cymem                   2.0.11\n",
      "debugpy                 1.8.15\n",
      "decorator               5.2.1\n",
      "en_core_web_sm          3.8.0\n",
      "executing               2.2.0\n",
      "fonttools               4.59.0\n",
      "idna                    3.10\n",
      "ipykernel               6.30.1\n",
      "ipython                 9.4.0\n",
      "ipython_pygments_lexers 1.1.1\n",
      "jedi                    0.19.2\n",
      "Jinja2                  3.1.6\n",
      "joblib                  1.5.1\n",
      "jupyter_client          8.6.3\n",
      "jupyter_core            5.8.1\n",
      "kiwisolver              1.4.8\n",
      "langcodes               3.5.0\n",
      "language_data           1.3.0\n",
      "marisa-trie             1.2.1\n",
      "markdown-it-py          3.0.0\n",
      "MarkupSafe              3.0.2\n",
      "matplotlib              3.10.5\n",
      "matplotlib-inline       0.1.7\n",
      "mdurl                   0.1.2\n",
      "murmurhash              1.0.13\n",
      "nest-asyncio            1.6.0\n",
      "nltk                    3.9.1\n",
      "numpy                   2.3.2\n",
      "packaging               25.0\n",
      "parso                   0.8.4\n",
      "pexpect                 4.9.0\n",
      "pillow                  11.3.0\n",
      "pip                     25.2\n",
      "platformdirs            4.3.8\n",
      "preshed                 3.0.10\n",
      "prompt_toolkit          3.0.51\n",
      "psutil                  7.0.0\n",
      "ptyprocess              0.7.0\n",
      "pure_eval               0.2.3\n",
      "pydantic                2.11.7\n",
      "pydantic_core           2.33.2\n",
      "Pygments                2.19.2\n",
      "pyparsing               3.2.3\n",
      "python-dateutil         2.9.0.post0\n",
      "pyzmq                   27.0.1\n",
      "regex                   2025.7.34\n",
      "requests                2.32.4\n",
      "rich                    14.1.0\n",
      "setuptools              80.9.0\n",
      "shellingham             1.5.4\n",
      "six                     1.17.0\n",
      "smart_open              7.3.0.post1\n",
      "soupsieve               2.7\n",
      "spacy                   3.8.7\n",
      "spacy-legacy            3.0.12\n",
      "spacy-loggers           1.0.5\n",
      "spacytextblob           5.0.0\n",
      "srsly                   2.5.1\n",
      "stack-data              0.6.3\n",
      "textblob                0.19.0\n",
      "thinc                   8.3.6\n",
      "tornado                 6.5.1\n",
      "tqdm                    4.67.1\n",
      "traitlets               5.14.3\n",
      "typer                   0.16.0\n",
      "typing_extensions       4.14.1\n",
      "typing-inspection       0.4.1\n",
      "urllib3                 2.5.0\n",
      "wasabi                  1.1.3\n",
      "wcwidth                 0.2.13\n",
      "weasel                  0.4.1\n",
      "wrapt                   1.17.2\n",
      "All prereqs installed.\n"
     ]
    }
   ],
   "source": [
    "import pickle\n",
    "import requests\n",
    "import spacy\n",
    "import spacytextblob\n",
    "from spacytextblob.spacytextblob import SpacyTextBlob\n",
    "from bs4 import BeautifulSoup\n",
    "import matplotlib.pyplot as plt\n",
    "import json\n",
    "from textblob import TextBlob\n",
    "from collections import Counter\n",
    "\n",
    "!pip list\n",
    "\n",
    "print('All prereqs installed.')"
   ]
  },
  {
   "cell_type": "markdown",
   "metadata": {},
   "source": [
    "#### 1. Find on the internet an article or blog post about a topic that interests you and you are able to get the text for using the technologies we have applied in the course.  Get the html for the article and store it in a file (which you must submit with your project)"
   ]
  },
  {
   "cell_type": "code",
   "execution_count": 13,
   "metadata": {},
   "outputs": [
    {
     "name": "stdout",
     "output_type": "stream",
     "text": [
      "HTML saved to article.html\n"
     ]
    }
   ],
   "source": [
    "\n",
    "url = \"https://www.simplilearn.com/future-of-data-analyst-article\"\n",
    "response = requests.get(url)\n",
    "response.raise_for_status()  # ensures the request succeeded\n",
    "\n",
    "with open(\"article.html\", \"w\", encoding=\"utf-8\") as f:\n",
    "    f.write(response.text)\n",
    "\n",
    "print(\"HTML saved to article.html\")"
   ]
  },
  {
   "cell_type": "markdown",
   "metadata": {},
   "source": [
    "#### 2. Read in your article's html source from the file you created in question 1 and do sentiment analysis on the article/post's text (use `.get_text()`).  Print the polarity score with an appropriate label.  Additionally print the number of sentences in the original article (with an appropriate label)"
   ]
  },
  {
   "cell_type": "code",
   "execution_count": 14,
   "metadata": {},
   "outputs": [
    {
     "name": "stdout",
     "output_type": "stream",
     "text": [
      "Polarity Score: 0.1552297204220281\n",
      "Number of Sentences: 158\n"
     ]
    }
   ],
   "source": [
    "# Step 1: Load the HTML file\n",
    "with open(\"article.html\", \"r\", encoding=\"utf-8\") as file:\n",
    "    html = file.read()\n",
    "\n",
    "# Step 2: Extract plain text using BeautifulSoup\n",
    "soup = BeautifulSoup(html, \"html.parser\")\n",
    "text = soup.get_text()\n",
    "\n",
    "# Step 3: Analyze the sentiment of the text\n",
    "blob = TextBlob(text)\n",
    "polarity = blob.sentiment.polarity\n",
    "\n",
    "# Step 4: Count the number of sentences\n",
    "num_sentences = len(blob.sentences)\n",
    "\n",
    "# Output results\n",
    "print(f\"Polarity Score: {polarity}\")\n",
    "print(f\"Number of Sentences: {num_sentences}\")"
   ]
  },
  {
   "cell_type": "markdown",
   "metadata": {},
   "source": [
    "#### 3. Load the article text into a trained `spaCy` pipeline, and determine the 5 most frequent tokens (converted to lower case).  Print the common tokens with an appropriate label.  Additionally, print the tokens their frequencies (with appropriate labels)"
   ]
  },
  {
   "cell_type": "code",
   "execution_count": 15,
   "metadata": {},
   "outputs": [
    {
     "name": "stdout",
     "output_type": "stream",
     "text": [
      "Top 5 Most Frequent Tokens:\n",
      "1. Token: 'data' — Frequency: 956\n",
      "2. Token: 'menu' — Frequency: 866\n",
      "3. Token: 'program' — Frequency: 300\n",
      "4. Token: 'analytics' — Frequency: 287\n",
      "5. Token: 'list' — Frequency: 264\n"
     ]
    }
   ],
   "source": [
    "def main():\n",
    "    # Read the full article text from file\n",
    "    with open(\"article.html\", \"r\", encoding=\"utf-8\") as file:\n",
    "        text = file.read()\n",
    "\n",
    "    # Load spaCy model, disable parser and ner for speed if text is large\n",
    "    nlp = spacy.load(\"en_core_web_sm\", disable=[\"parser\", \"ner\"])\n",
    "\n",
    "    # Process the text with spaCy pipeline\n",
    "    doc = nlp(text)\n",
    "\n",
    "    # Extract tokens: lowercase, skip stopwords, punctuation, non-alpha tokens\n",
    "    tokens = [\n",
    "        token.text.lower()\n",
    "        for token in doc\n",
    "        if not token.is_stop and not token.is_punct and token.is_alpha\n",
    "    ]\n",
    "\n",
    "    # Count token frequencies\n",
    "    token_freq = Counter(tokens)\n",
    "\n",
    "    # Get the top 5 most common tokens\n",
    "    most_common = token_freq.most_common(5)\n",
    "\n",
    "    # Print results with labels\n",
    "    print(\"Top 5 Most Frequent Tokens:\")\n",
    "    for i, (token, freq) in enumerate(most_common, start=1):\n",
    "        print(f\"{i}. Token: '{token}' — Frequency: {freq}\")\n",
    "\n",
    "if __name__ == \"__main__\":\n",
    "    main()"
   ]
  },
  {
   "cell_type": "markdown",
   "metadata": {},
   "source": [
    "#### 4. Load the article text into a trained `spaCy` pipeline, and determine the 5 most frequent lemmas (converted to lower case).  Print the common lemmas with an appropriate label.  Additionally, print the lemmas with their frequencies (with appropriate labels)."
   ]
  },
  {
   "cell_type": "code",
   "execution_count": 16,
   "metadata": {},
   "outputs": [
    {
     "name": "stdout",
     "output_type": "stream",
     "text": [
      "Top 5 Most Frequent Lemmas:\n",
      "\n",
      "1. Lemma: 'data' — Frequency: 98\n",
      "2. Lemma: 'datum' — Frequency: 92\n",
      "3. Lemma: 'analyst' — Frequency: 56\n",
      "4. Lemma: 'analytic' — Frequency: 38\n",
      "5. Lemma: 'certification' — Frequency: 28\n"
     ]
    }
   ],
   "source": [
    "def main():\n",
    "    # Load and parse HTML text\n",
    "    with open(\"article.html\", \"r\", encoding=\"utf-8\") as file:\n",
    "        html = file.read()\n",
    "\n",
    "    soup = BeautifulSoup(html, \"html.parser\")\n",
    "    text = soup.get_text()\n",
    "\n",
    "    # Load spaCy English model (small)\n",
    "    nlp = spacy.load(\"en_core_web_sm\")\n",
    "\n",
    "    # Process text with spaCy pipeline\n",
    "    doc = nlp(text)\n",
    "\n",
    "    # Extract lemmas, lowercase, filter out stopwords, punctuation, non-alpha\n",
    "    lemmas = [\n",
    "        token.lemma_.lower()\n",
    "        for token in doc\n",
    "        if not token.is_stop and not token.is_punct and token.is_alpha\n",
    "    ]\n",
    "\n",
    "    # Count lemma frequencies\n",
    "    lemma_freq = Counter(lemmas)\n",
    "\n",
    "    # Get top 5 most common lemmas\n",
    "    most_common_lemmas = lemma_freq.most_common(5)\n",
    "\n",
    "    # Print results with labels\n",
    "    print(\"Top 5 Most Frequent Lemmas:\\n\")\n",
    "    for i, (lemma, freq) in enumerate(most_common_lemmas, start=1):\n",
    "        print(f\"{i}. Lemma: '{lemma}' — Frequency: {freq}\")\n",
    "\n",
    "if __name__ == \"__main__\":\n",
    "    main()"
   ]
  },
  {
   "cell_type": "markdown",
   "metadata": {},
   "source": [
    "#### 5. Make a list containing the scores (using tokens) of every sentence in the article, and plot a histogram with appropriate titles and axis labels of the scores. From your histogram, what seems to be the most common range of scores (put the answer in a comment after your code)?"
   ]
  },
  {
   "cell_type": "code",
   "execution_count": null,
   "metadata": {},
   "outputs": [
    {
     "data": {
      "image/png": "[encoded data removed]",
      "text/plain": [
       "<Figure size 1000x600 with 1 Axes>"
      ]
     },
     "metadata": {},
     "output_type": "display_data"
    }
   ],
   "source": [
    "# Load spaCy model\n",
    "nlp = spacy.load(\"en_core_web_sm\")\n",
    "\n",
    "# Read and extract text from HTML\n",
    "with open(\"article.html\", \"r\", encoding=\"utf-8\") as file:\n",
    "    soup = BeautifulSoup(file.read(), \"html.parser\")\n",
    "    text = soup.get_text()\n",
    "\n",
    "# Process entire article\n",
    "doc = nlp(text)\n",
    "\n",
    "# Get token frequency across entire article\n",
    "tokens = [\n",
    "    token.text.lower()\n",
    "    for token in doc\n",
    "    if not token.is_stop and not token.is_punct and token.is_alpha\n",
    "]\n",
    "token_freq = Counter(tokens)\n",
    "\n",
    "# Score each sentence using token frequencies\n",
    "sentence_scores = []\n",
    "for sent in doc.sents:\n",
    "    sent_score = sum(\n",
    "        token_freq[token.text.lower()]\n",
    "        for token in sent\n",
    "        if not token.is_stop and not token.is_punct and token.is_alpha\n",
    "    )\n",
    "    sentence_scores.append(sent_score)\n",
    "\n",
    "# Plot histogram\n",
    "plt.figure(figsize=(10, 6))\n",
    "plt.hist(sentence_scores, bins=20, color='skyblue', edgecolor='black')\n",
    "plt.title(\"Histogram of Sentence Scores (Using Token Frequencies)\")\n",
    "plt.xlabel(\"Sentence Score\")\n",
    "plt.ylabel(\"Number of Sentences\")\n",
    "plt.grid(True)\n",
    "plt.tight_layout()\n",
    "plt.show()\n",
    "\n",
    "# Based on the histogram my observations show the most common scores are all below 300 with a spike right at 300."
   ]
  },
  {
   "cell_type": "markdown",
   "metadata": {},
   "source": [
    "#### 6. Make a list containing the scores (using lemmas) of every sentence in the article, and plot a histogram with appropriate titles and axis labels of the scores.  From your histogram, what seems to be the most common range of scores (put the answer in a comment after your code)?"
   ]
  },
  {
   "cell_type": "code",
   "execution_count": null,
   "metadata": {},
   "outputs": [
    {
     "data": {
      "image/png": "[encoded data removed]",
      "text/plain": [
       "<Figure size 1000x600 with 1 Axes>"
      ]
     },
     "metadata": {},
     "output_type": "display_data"
    }
   ],
   "source": [
    "# Load spaCy model\n",
    "nlp = spacy.load(\"en_core_web_sm\")\n",
    "\n",
    "# Read and extract text from HTML\n",
    "with open(\"article.html\", \"r\", encoding=\"utf-8\") as file:\n",
    "    soup = BeautifulSoup(file.read(), \"html.parser\")\n",
    "    text = soup.get_text()\n",
    "\n",
    "# Process article text\n",
    "doc = nlp(text)\n",
    "\n",
    "# Count lemma frequencies across the article (lowercased, filtered)\n",
    "lemmas = [\n",
    "    token.lemma_.lower()\n",
    "    for token in doc\n",
    "    if not token.is_stop and not token.is_punct and token.is_alpha\n",
    "]\n",
    "lemma_freq = Counter(lemmas)\n",
    "\n",
    "# Score each sentence based on lemma frequencies\n",
    "sentence_lemma_scores = []\n",
    "for sent in doc.sents:\n",
    "    score = sum(\n",
    "        lemma_freq[token.lemma_.lower()]\n",
    "        for token in sent\n",
    "        if not token.is_stop and not token.is_punct and token.is_alpha\n",
    "    )\n",
    "    sentence_lemma_scores.append(score)\n",
    "\n",
    "# Plot histogram\n",
    "plt.figure(figsize=(10, 6))\n",
    "plt.hist(sentence_lemma_scores, bins=20, color='salmon', edgecolor='black')\n",
    "plt.title(\"Histogram of Sentence Scores (Using Lemmas)\")\n",
    "plt.xlabel(\"Sentence Score\")\n",
    "plt.ylabel(\"Number of Sentences\")\n",
    "plt.grid(True)\n",
    "plt.tight_layout()\n",
    "plt.show()\n",
    "\n",
    "# The most common range of scores are between 100 and 200"
   ]
  },
  {
   "cell_type": "markdown",
   "metadata": {},
   "source": [
    "#### 7. Using the histograms from questions 5 and 6, decide a \"cutoff\" score for tokens and lemmas such that fewer than half the sentences would have a score greater than the cutoff score.  Record the scores in this Markdown cell\n",
    "\n",
    "* Cutoff Score (tokens): 250\n",
    "* Cutoff Score (lemmas): 200\n",
    "\n",
    "Feel free to change these scores as you generate your summaries.  Ideally, we're shooting for at least 6 sentences for our summary, but don't want more than 10 (these numbers are rough estimates; they depend on the length of your article)."
   ]
  },
  {
   "cell_type": "markdown",
   "metadata": {},
   "source": [
    "#### 8. Create a summary of the article by going through every sentence in the article and adding it to an (initially) empty list if its score (based on tokens) is greater than the cutoff score you identified in question 8.  If your loop variable is named `sent`, you may find it easier to add `sent.text.strip()` to your list of sentences.  Print the summary (I would cleanly generate the summary text by `join`ing the strings in your list together with a space (`' '.join(sentence_list)`)."
   ]
  },
  {
   "cell_type": "code",
   "execution_count": null,
   "metadata": {},
   "outputs": [
    {
     "name": "stdout",
     "output_type": "stream",
     "text": [
      "Token-Based Summary:\n",
      "\n",
      "DataCareer Fast-trackEnterpriseOther SegmentsArticlesEbooksFree Practice TestsOn-demand WebinarsTutorialsExplore our curated learning milestones for you!Click here to close suggestions!HomeResourcesData Science & Business AnalyticsFuture of Data Analyst: Trends & Career Paths!Table of ContentsEvolving Role as Data AnalystImportance of Data AnalystWhere Is Data Analytics Going?Career as a Data AnalystLatest Trend in Data AnalyticsCareer Boost Opportunities as Data AnalystConclusionFAQsFuture of Data Analyst: Trends & Career Paths!By SimplilearnShare This Article:Last updated on Jul 31, 2025Table of ContentsEvolving Role as Data AnalystImportance of Data AnalystWhere Is Data Analytics Going?Career as a Data AnalystLatest Trend in Data AnalyticsCareer Boost Opportunities as Data AnalystConclusionFAQs Data is essential for decision-making in every sector. The massive amount of data generated constantly requires skilled analysis to turn it into useful insights, making data analysts crucial to business strategy and operations. Evolving Role as Data Analyst\n",
      "Traditionally, data analysts have been the gatekeepers of data processing and interpretation, focusing primarily on generating reports, visualizing data, and providing essential insights. However, as businesses become more data-driven, the expectations from data analysts are expanding. Integration of Advanced Analytics and Machine Learning\n",
      "Advanced analytics and machine learning technologies have expanded the toolkit available to data analysts. Data analysts access more sensitive and comprehensive datasets, so their role in data governance and ethics becomes more critical. Future data analysts must navigate the complexities of privacy laws, ethical data usage, and security. Importance of Data Analyst\n",
      "The future importance of data analysts must be considered. Integration of AI and ML\n",
      "Artificial Intelligence and Machine Learning are becoming integral to data analytics, transforming how data is analyzed and utilized. 3. Data Privacy and Ethics\n",
      "With the increasing awareness and regulation around data privacy (e.g., GDPR in Europe and CCPA in California), the focus on ethical data usage and privacy is intensifying. Data analysts and organizations must prioritize data security, comply with regulations, and ensure ethical considerations are at the forefront of data handling and analysis practices.\n",
      "4. This trend democratizes data analytics, enabling non-experts to perform complex analyses and make data-driven decisions without deep technical expertise. This involves processing data near the source of data generation (the \"edge\" of the network) rather than in a centralized data-processing warehouse. 7. Focus on Data Literacy\n",
      "As data becomes a critical asset for organizations, there is a growing emphasis on data literacy across all levels of the organization. This trend towards a more data-literate workforce is essential for harnessing the full potential of data analytics. Cross-disciplinary Data Analytics\n",
      "Data analytics increasingly intersects with various disciplines, including behavioral science, sociology, and environmental science. Career as a Data Analyst\n",
      "Pursuing a career as a data analyst offers a promising path filled with opportunities for growth, impact, and exploration in virtually every industry. Hereâs what you need to know about starting and advancing in a career as a data analyst:\n",
      "Educational Background\n",
      "Most data analyst positions require a bachelorâs degree in statistics, mathematics, computer science, information technology, economics, or any related field emphasizing analytical skills. Analytical Skills: A data analyst's core role is interpreting complex data sets and extracting meaningful insights. Career Path and Progression\n",
      "Starting as junior data analysts, individuals can progress to senior roles, specializing in certain data analysis or industries. With experience, data analysts can advance to positions such as data scientist, data analytics manager, or even chief data officer, depending on their skill set, education, and interests. Augmented Analytics\n",
      "Augmented analytics uses artificial intelligence (AI) and machine learning (ML) to automate data preparation, analysis, and insight generation. This trend significantly enhances the efficiency and accuracy of data analysis, making advanced data analytics accessible to non-experts and thus democratizing data insights across organizations. 2. Data Fabric\n",
      "Data fabric technology provides a flexible, resilient data integration across platforms and users, facilitating data accessibility and sharing within an organization. It uses advanced analytics, AI, and ML to anticipate data management needs and recommend or automate data orchestration, improving data management efficiency and reducing time spent on data preparation.\n",
      "3. AI and ML Integration\n",
      "AI and ML are more integrated into data analytics processes, moving beyond simple data analysis to predictive analytics, natural language processing, and automated decision-making systems. Quantum Computing\n",
      "Despite being in the early stages of development, quantum computing promises to transform data analytics through its capability to analyze complex data sets at speeds far surpassing that of conventional computers. As data becomes central to organizational decision-making, there's a growing emphasis on data literacy across all levels of an organization. Businesses are investing in training programs to enhance their employees' understanding of data analytics, emphasizing the importance of data-driven decision-making. 7. Ethical AI and Responsible Data Use\n",
      "With the increased use of AI and data analytics, ethical considerations and responsible use of data are becoming more critical. Data Privacy and Governance\n",
      "Organizations prioritize data privacy and governance in response to increasing data breaches and privacy concerns, as well as stringent regulations like GDPR and CCPA. By processing data near its source rather than in a centralized data center or cloud, edge analytics can reduce latency, save bandwidth, and improve the timeliness of insights, particularly in areas like manufacturing, retail, and smart cities. Advance Your Education\n",
      "Specialized Courses: Enroll in courses that cover advanced analytics, machine learning, artificial intelligence, data engineering, and big data technologies. 2. Gain Practical Experience\n",
      "Projects: Work on various data analysis projects to gain experience with different data sets, challenges, and industries. 7. Understand the Business\n",
      "To truly excel as a data analyst, understand your data projects' business context and objectives. Leadership experience can pave the way for roles like data analytics manager, data science lead, or even chief data officer. Build your career in Data Analytics with our Data Analyst Master's Program! Conclusion\n",
      "The future for data analysts looks exceptionally bright, characterized by rapid technological advancements, evolving career opportunities, and the increasing significance of data across all sectors. As we have explored, trends such as augmented analytics, AI and machine learning integration, and the emphasis on data literacy and privacy are shaping the landscape in which data analysts operate. The Data Analyst Masters Program, offered by Simplilearn, equips you with the skills and knowledge you need to excel in the rapidly evolving field of data analytics. Upskill yourself with our trending Data Analytics Courses and Certifications\n",
      "Professional Certificate Course in Data Analytics and Generative AI\n",
      "Post Graduate Program in Data Analytics\n",
      "Professional Certificate in Data Analytics and Generative AI\n",
      "FAQs\n",
      "1. Yes, the demand for data analysts is expected to increase as organizations continue to rely on data-driven decision-making across all industries. Data analysts should keep abreast of developments in AI, machine learning, data visualization tools (like Tableau and Power BI), and programming languages (such as Python and R). Data analysts will face data privacy and security challenges, managing the increasing volume and variety of data, staying current with rapidly evolving technologies, and ensuring their analyses lead to actionable insights amidst information overload. What skills will be most valuable for data analysts in the future?\n",
      "Beyond technical skills, the ability to translate complex data into actionable insights, proficiency in data ethics and privacy, adaptability to new technologies, and strong problem-solving skills will be highly valuable for data analysts in the future. Data Science & Business Analytics Courses Duration and Fees Data Science & Business Analytics programs typically range from a few weeks to several months, with fees varying based on program and institution. Program NameDurationFeesProfessional Certificate in Data Science and Generative AICohort Starts: 11 Aug, 20256 months$3,800Professional Certificate in Data Analytics and Generative AICohort Starts: 11 Aug, 20258 months$3,500Data Strategy for LeadersCohort Starts: 11 Sep, 202514 weeks$3,200Professional Certificate Program in Data EngineeringCohort Starts: 20 Oct, 20257 months$3,850Data Scientist11 months$1,449Data Analyst11 months$1,449Recommended ReadsData Analyst Resume Guide5 May, 2023Data Analyst Job Description: What Does a Data Analyst Do?138695 May, 2025How to Become a Data Analyst4953399 Jun, 2025Business Intelligence Career Guide: Your Complete Guide to Becoming a Business Analyst2 Jun, 2023Data Analyst Job Description62231031 Jul, 2025Data Analyst vs. Data Scientist17198217 Mar, 2025prevNextGet Affiliated Certifications with Live Class programsData AnalystIndustry-recognized Data Analyst Masterâs certificate from SimplilearnDedicated live sessions by faculty of industry experts11 monthsView ProgramProfessional Certificate in Data Analytics and Generative AIProfessional Certificate in Data Analytics and Generative AI andÂ Purdue University Online Alumni Association membershipExclusive hackathons and Ask me Anything sessions by IBM8 monthsView Program\n",
      "\n",
      "Â© 2009 -2025- Simplilearn Americas Inc.Follow us!Refer and EarnCompany About usCareers Newsroom Alumni speak Grievance redressalContact usWork with us Become an instructorBlog as guestDiscoverFree CoursesSkillup SitemapResourcesRSS feedSimpliMentor GPTFor BusinessesCorporate trainingSimplilearn Learning Hub+Guaranteed-to-run ClassesPartnersGovernmentLearn On the Go!Get the Android AppGet the iOS AppTrending Post Graduate ProgramsPG in Data Science | Cloud Computing and DevOps - IITG | Data Analytics Program | AI and ML Course Training Course | Data Science Certifiation Course | Data Analyst Course | Masters in Artificial Intelligence | Cloud Architect Certification Training Course | DevOps Engineer Certification Training Course | Digital Marketing Course | Cyber Security Expert Course | Business Analyst CourseTrending CoursesPMP Certification Training Course | CSM Certification Course | Data Science with Python Course | AWS Certification | CEH Certification | AWS Technical Essentials | AWS DevOps Certification | ITIL Certification | AZ 900 Certification | CompTIA\n"
     ]
    }
   ],
   "source": [
    "# Load spaCy model\n",
    "nlp = spacy.load(\"en_core_web_sm\")\n",
    "\n",
    "# Read HTML and extract text\n",
    "with open(\"article.html\", \"r\", encoding=\"utf-8\") as file:\n",
    "    soup = BeautifulSoup(file.read(), \"html.parser\")\n",
    "    text = soup.get_text()\n",
    "\n",
    "# Process text\n",
    "doc = nlp(text)\n",
    "\n",
    "# Compute token frequencies\n",
    "tokens = [\n",
    "    token.text.lower()\n",
    "    for token in doc\n",
    "    if not token.is_stop and not token.is_punct and token.is_alpha\n",
    "]\n",
    "token_freq = Counter(tokens)\n",
    "\n",
    "# Score each sentence using token frequencies\n",
    "sentence_scores = []\n",
    "for sent in doc.sents:\n",
    "    score = sum(\n",
    "        token_freq[token.text.lower()]\n",
    "        for token in sent\n",
    "        if not token.is_stop and not token.is_punct and token.is_alpha\n",
    "    )\n",
    "    sentence_scores.append(score)\n",
    "\n",
    "# ----- SET YOUR CUTOFF HERE -----\n",
    "token_cutoff = 250\n",
    "\n",
    "# Create a summary by including sentences above the cutoff\n",
    "summary_sentences = [\n",
    "    sent.text.strip()\n",
    "    for sent, score in zip(doc.sents, sentence_scores)\n",
    "    if score > token_cutoff\n",
    "]\n",
    "\n",
    "# Join and print summary\n",
    "summary = ' '.join(summary_sentences)\n",
    "print(\"Token-Based Summary:\\n\")\n",
    "print(summary)"
   ]
  },
  {
   "cell_type": "markdown",
   "metadata": {},
   "source": [
    "#### 9. Print the polarity score of your summary you generated with the token scores (with an appropriate label). Additionally, print the number of sentences in the summarized article."
   ]
  },
  {
   "cell_type": "code",
   "execution_count": 27,
   "metadata": {},
   "outputs": [
    {
     "name": "stdout",
     "output_type": "stream",
     "text": [
      "🧠 Polarity score of token-based summary: 0.1145895934131228\n",
      "🧾 Number of sentences in summary: 53\n"
     ]
    }
   ],
   "source": [
    "# Generate summary (this assumes your previous summary code already exists)\n",
    "summary = ' '.join(summary_sentences)\n",
    "\n",
    "# Analyze summary polarity\n",
    "blob = TextBlob(summary)\n",
    "polarity = blob.sentiment.polarity\n",
    "\n",
    "# Count number of sentences in the summary\n",
    "summary_sentence_count = len(summary_sentences)\n",
    "\n",
    "# Print results\n",
    "print(\"🧠 Polarity score of token-based summary:\", polarity)\n",
    "print(\"🧾 Number of sentences in summary:\", summary_sentence_count)"
   ]
  },
  {
   "cell_type": "markdown",
   "metadata": {},
   "source": [
    "#### 10. Create a summary of the article by going through every sentence in the article and adding it to an (initially) empty list if its score (based on lemmas) is greater than the cutoff score you identified in question 8.  If your loop variable is named `sent`, you may find it easier to add `sent.text.strip()` to your list of sentences.  Print the summary (I would cleanly generate the summary text by `join`ing the strings in your list together with a space (`' '.join(sentence_list)`)."
   ]
  },
  {
   "cell_type": "code",
   "execution_count": 28,
   "metadata": {},
   "outputs": [
    {
     "name": "stdout",
     "output_type": "stream",
     "text": [
      "📝 Lemma-Based Summary:\n",
      "\n",
      "DataCareer Fast-trackEnterpriseOther SegmentsArticlesEbooksFree Practice TestsOn-demand WebinarsTutorialsExplore our curated learning milestones for you!Click here to close suggestions!HomeResourcesData Science & Business AnalyticsFuture of Data Analyst: Trends & Career Paths!Table of ContentsEvolving Role as Data AnalystImportance of Data AnalystWhere Is Data Analytics Going?Career as a Data AnalystLatest Trend in Data AnalyticsCareer Boost Opportunities as Data AnalystConclusionFAQsFuture of Data Analyst: Trends & Career Paths!By SimplilearnShare This Article:Last updated on Jul 31, 2025Table of ContentsEvolving Role as Data AnalystImportance of Data AnalystWhere Is Data Analytics Going?Career as a Data AnalystLatest Trend in Data AnalyticsCareer Boost Opportunities as Data AnalystConclusionFAQs Data is essential for decision-making in every sector. The massive amount of data generated constantly requires skilled analysis to turn it into useful insights, making data analysts crucial to business strategy and operations. Evolving Role as Data Analyst\n",
      "Traditionally, data analysts have been the gatekeepers of data processing and interpretation, focusing primarily on generating reports, visualizing data, and providing essential insights. However, as businesses become more data-driven, the expectations from data analysts are expanding. The future sees data analysts not just as report generators but as strategic partners in business decision-making. Integration of Advanced Analytics and Machine Learning\n",
      "Advanced analytics and machine learning technologies have expanded the toolkit available to data analysts. Future data analysts are expected to leverage these tools to provide deeper insights, predict trends, and prescribe actions. Data analysts access more sensitive and comprehensive datasets, so their role in data governance and ethics becomes more critical. Future data analysts must navigate the complexities of privacy laws, ethical data usage, and security. Data analysts will increasingly work across functions, collaborating closely with marketing, finance, operations, and more to provide insights tailored to business needs. Importance of Data Analyst\n",
      "The future importance of data analysts must be considered. Driving Business Strategy\n",
      "Data analysts are becoming indispensable in shaping business strategies. Enhancing Decision-Making\n",
      "In a world where businesses must swiftly adapt to changing market dynamics, data analysts empower leaders with the insights needed for quick and effective decision-making. Integration of AI and ML\n",
      "Artificial Intelligence and Machine Learning are becoming integral to data analytics, transforming how data is analyzed and utilized. 3. Data Privacy and Ethics\n",
      "With the increasing awareness and regulation around data privacy (e.g., GDPR in Europe and CCPA in California), the focus on ethical data usage and privacy is intensifying. Data analysts and organizations must prioritize data security, comply with regulations, and ensure ethical considerations are at the forefront of data handling and analysis practices.\n",
      "4. Augmented Analytics\n",
      "Augmented analytics uses AI and ML to automate data preparation, insight generation, and explanation. This trend democratizes data analytics, enabling non-experts to perform complex analyses and make data-driven decisions without deep technical expertise. Augmented analytics is expected to make data insights more accessible across organizations, fostering a culture of informed decision-making. This involves processing data near the source of data generation (the \"edge\" of the network) rather than in a centralized data-processing warehouse. 7. Focus on Data Literacy\n",
      "As data becomes a critical asset for organizations, there is a growing emphasis on data literacy across all levels of the organization. This trend towards a more data-literate workforce is essential for harnessing the full potential of data analytics. Cross-disciplinary Data Analytics\n",
      "Data analytics increasingly intersects with various disciplines, including behavioral science, sociology, and environmental science. Career as a Data Analyst\n",
      "Pursuing a career as a data analyst offers a promising path filled with opportunities for growth, impact, and exploration in virtually every industry. Hereâs what you need to know about starting and advancing in a career as a data analyst:\n",
      "Educational Background\n",
      "Most data analyst positions require a bachelorâs degree in statistics, mathematics, computer science, information technology, economics, or any related field emphasizing analytical skills. A masterâs degree in data science, analytics, or a related field can enhance your qualifications and may be necessary for more advanced positions.\n",
      "Certifications: Professional certifications can bolster your resume and demonstrate expertise in specific tools, technologies, or methodologies. Analytical Skills: A data analyst's core role is interpreting complex data sets and extracting meaningful insights. Career Path and Progression\n",
      "Starting as junior data analysts, individuals can progress to senior roles, specializing in certain data analysis or industries. With experience, data analysts can advance to positions such as data scientist, data analytics manager, or even chief data officer, depending on their skill set, education, and interests. Augmented Analytics\n",
      "Augmented analytics uses artificial intelligence (AI) and machine learning (ML) to automate data preparation, analysis, and insight generation. This trend significantly enhances the efficiency and accuracy of data analysis, making advanced data analytics accessible to non-experts and thus democratizing data insights across organizations. 2. Data Fabric\n",
      "Data fabric technology provides a flexible, resilient data integration across platforms and users, facilitating data accessibility and sharing within an organization. It uses advanced analytics, AI, and ML to anticipate data management needs and recommend or automate data orchestration, improving data management efficiency and reducing time spent on data preparation.\n",
      "3. Streaming analytics allows organizations to analyze data the moment it's generated, providing a competitive advantage by enabling quick responses to emerging trends, customer behaviors, and operational efficiencies. AI and ML Integration\n",
      "AI and ML are more integrated into data analytics processes, moving beyond simple data analysis to predictive analytics, natural language processing, and automated decision-making systems. Quantum Computing\n",
      "Despite being in the early stages of development, quantum computing promises to transform data analytics through its capability to analyze complex data sets at speeds far surpassing that of conventional computers. As data becomes central to organizational decision-making, there's a growing emphasis on data literacy across all levels of an organization. Businesses are investing in training programs to enhance their employees' understanding of data analytics, emphasizing the importance of data-driven decision-making. 7. Ethical AI and Responsible Data Use\n",
      "With the increased use of AI and data analytics, ethical considerations and responsible use of data are becoming more critical. Organizations focus on transparent, fair, and accountable use of data and AI algorithms to ensure privacy, security, and ethical decision-making. Data Privacy and Governance\n",
      "Organizations prioritize data privacy and governance in response to increasing data breaches and privacy concerns, as well as stringent regulations like GDPR and CCPA. By processing data near its source rather than in a centralized data center or cloud, edge analytics can reduce latency, save bandwidth, and improve the timeliness of insights, particularly in areas like manufacturing, retail, and smart cities. Advance Your Education\n",
      "Specialized Courses: Enroll in courses that cover advanced analytics, machine learning, artificial intelligence, data engineering, and big data technologies. 2. Gain Practical Experience\n",
      "Projects: Work on various data analysis projects to gain experience with different data sets, challenges, and industries. 7. Understand the Business\n",
      "To truly excel as a data analyst, understand your data projects' business context and objectives. Leadership experience can pave the way for roles like data analytics manager, data science lead, or even chief data officer. Build your career in Data Analytics with our Data Analyst Master's Program! Conclusion\n",
      "The future for data analysts looks exceptionally bright, characterized by rapid technological advancements, evolving career opportunities, and the increasing significance of data across all sectors. As we have explored, trends such as augmented analytics, AI and machine learning integration, and the emphasis on data literacy and privacy are shaping the landscape in which data analysts operate. The Data Analyst Masters Program, offered by Simplilearn, equips you with the skills and knowledge you need to excel in the rapidly evolving field of data analytics. Upskill yourself with our trending Data Analytics Courses and Certifications\n",
      "Professional Certificate Course in Data Analytics and Generative AI\n",
      "Post Graduate Program in Data Analytics\n",
      "Professional Certificate in Data Analytics and Generative AI\n",
      "FAQs\n",
      "1. Yes, the demand for data analysts is expected to increase as organizations continue to rely on data-driven decision-making across all industries. Data analysts should keep abreast of developments in AI, machine learning, data visualization tools (like Tableau and Power BI), and programming languages (such as Python and R). Data analysts will face data privacy and security challenges, managing the increasing volume and variety of data, staying current with rapidly evolving technologies, and ensuring their analyses lead to actionable insights amidst information overload. What skills will be most valuable for data analysts in the future?\n",
      "Beyond technical skills, the ability to translate complex data into actionable insights, proficiency in data ethics and privacy, adaptability to new technologies, and strong problem-solving skills will be highly valuable for data analysts in the future. Data Science & Business Analytics Courses Duration and Fees Data Science & Business Analytics programs typically range from a few weeks to several months, with fees varying based on program and institution. Program NameDurationFeesProfessional Certificate in Data Science and Generative AICohort Starts: 11 Aug, 20256 months$3,800Professional Certificate in Data Analytics and Generative AICohort Starts: 11 Aug, 20258 months$3,500Data Strategy for LeadersCohort Starts: 11 Sep, 202514 weeks$3,200Professional Certificate Program in Data EngineeringCohort Starts: 20 Oct, 20257 months$3,850Data Scientist11 months$1,449Data Analyst11 months$1,449Recommended ReadsData Analyst Resume Guide5 May, 2023Data Analyst Job Description: What Does a Data Analyst Do?138695 May, 2025How to Become a Data Analyst4953399 Jun, 2025Business Intelligence Career Guide: Your Complete Guide to Becoming a Business Analyst2 Jun, 2023Data Analyst Job Description62231031 Jul, 2025Data Analyst vs. Data Scientist17198217 Mar, 2025prevNextGet Affiliated Certifications with Live Class programsData AnalystIndustry-recognized Data Analyst Masterâs certificate from SimplilearnDedicated live sessions by faculty of industry experts11 monthsView ProgramProfessional Certificate in Data Analytics and Generative AIProfessional Certificate in Data Analytics and Generative AI andÂ Purdue University Online Alumni Association membershipExclusive hackathons and Ask me Anything sessions by IBM8 monthsView Program\n",
      "\n",
      "Â© 2009 -2025- Simplilearn Americas Inc.Follow us!Refer and EarnCompany About usCareers Newsroom Alumni speak Grievance redressalContact usWork with us Become an instructorBlog as guestDiscoverFree CoursesSkillup SitemapResourcesRSS feedSimpliMentor GPTFor BusinessesCorporate trainingSimplilearn Learning Hub+Guaranteed-to-run ClassesPartnersGovernmentLearn On the Go!Get the Android AppGet the iOS AppTrending Post Graduate ProgramsPG in Data Science | Cloud Computing and DevOps - IITG | Data Analytics Program | AI and ML Course | Business Analysis Certification Course | Data Engineering Certification Courses | Product Management Training CourseTrending Master ProgramsPMP Plus Certification Training Course | Data Science Certifiation Course | Data Analyst Course | Masters in Artificial Intelligence | Cloud Architect Certification Training Course | DevOps Engineer Certification Training Course | Digital Marketing Course | Cyber Security Expert Course | Business Analyst CourseTrending CoursesPMP Certification Training Course | CSM Certification Course | Data Science with Python Course | AWS Certification | CEH Certification | AWS Technical Essentials | AWS DevOps Certification | ITIL Certification | AZ 900 Certification | CompTIA Security+ Certification  | AZ 400 Certification | SAFe Certification | CISSP Certification Training | Tableau Certification Course | Lean Six Sigma Green Belt Certification | Lean Six Sigma Black Belt Certification\n"
     ]
    }
   ],
   "source": [
    "nlp = spacy.load(\"en_core_web_sm\")\n",
    "\n",
    "# Read HTML and extract text\n",
    "with open(\"article.html\", \"r\", encoding=\"utf-8\") as file:\n",
    "    soup = BeautifulSoup(file.read(), \"html.parser\")\n",
    "    text = soup.get_text()\n",
    "\n",
    "# Process text\n",
    "doc = nlp(text)\n",
    "\n",
    "# Compute lemma frequencies\n",
    "lemmas = [\n",
    "    token.lemma_.lower()\n",
    "    for token in doc\n",
    "    if not token.is_stop and not token.is_punct and token.is_alpha\n",
    "]\n",
    "lemma_freq = Counter(lemmas)\n",
    "\n",
    "# Score each sentence using lemma frequencies\n",
    "lemma_scores = []\n",
    "for sent in doc.sents:\n",
    "    score = sum(\n",
    "        lemma_freq[token.lemma_.lower()]\n",
    "        for token in sent\n",
    "        if not token.is_stop and not token.is_punct and token.is_alpha\n",
    "    )\n",
    "    lemma_scores.append(score)\n",
    "\n",
    "# ----- SET YOUR LEMMA CUTOFF SCORE -----\n",
    "lemma_cutoff = 200\n",
    "\n",
    "# Create lemma-based summary\n",
    "lemma_summary_sentences = [\n",
    "    sent.text.strip()\n",
    "    for sent, score in zip(doc.sents, lemma_scores)\n",
    "    if score > lemma_cutoff\n",
    "]\n",
    "\n",
    "# Join and print summary\n",
    "lemma_summary = ' '.join(lemma_summary_sentences)\n",
    "print(\"📝 Lemma-Based Summary:\\n\")\n",
    "print(lemma_summary)"
   ]
  },
  {
   "cell_type": "markdown",
   "metadata": {},
   "source": [
    "#### 11. Print the polarity score of your summary you generated with the lemma scores (with an appropriate label). Additionally, print the number of sentences in the summarized article."
   ]
  },
  {
   "cell_type": "code",
   "execution_count": 29,
   "metadata": {},
   "outputs": [
    {
     "name": "stdout",
     "output_type": "stream",
     "text": [
      "🧠 Polarity score of lemma-based summary: 0.13610510822510816\n",
      "🧾 Number of sentences in lemma-based summary: 65\n"
     ]
    }
   ],
   "source": [
    "# Join the summary into a single string\n",
    "lemma_summary = ' '.join(lemma_summary_sentences)\n",
    "\n",
    "# Calculate polarity using TextBlob\n",
    "blob = TextBlob(lemma_summary)\n",
    "polarity = blob.sentiment.polarity\n",
    "\n",
    "# Count number of sentences in the summary\n",
    "num_sentences = len(lemma_summary_sentences)\n",
    "\n",
    "# Print results\n",
    "print(\"🧠 Polarity score of lemma-based summary:\", polarity)\n",
    "print(\"🧾 Number of sentences in lemma-based summary:\", num_sentences)"
   ]
  },
  {
   "cell_type": "markdown",
   "metadata": {},
   "source": [
    "#### 12.  Compare your polarity scores of your summaries to the polarity scores of the initial article.  Is there a difference?  Why do you think that may or may not be?.  Answer in this Markdown cell.  \n",
    "\n",
    "There is a difference which is to be expected mostly because summarys always remove content much of that is emotionally driven because the tokens and lemmas are driving the summary content as the most common when in this article is subject based not emotionally based."
   ]
  },
  {
   "cell_type": "markdown",
   "metadata": {},
   "source": [
    "#### 13. Based on your reading of the original article, which summary do you think is better (if there's a difference).  Why do you think this might be?\n",
    "\n",
    "The token based summary is better and I think the reasoning is pretty simple as it grabbed more pertinant words in the article after reading."
   ]
  }
 ],
 "metadata": {
  "kernelspec": {
   "display_name": ".venv",
   "language": "python",
   "name": "python3"
  },
  "language_info": {
   "codemirror_mode": {
    "name": "ipython",
    "version": 3
   },
   "file_extension": ".py",
   "mimetype": "text/x-python",
   "name": "python",
   "nbconvert_exporter": "python",
   "pygments_lexer": "ipython3",
   "version": "3.13.1"
  }
 },
 "nbformat": 4,
 "nbformat_minor": 4
}
